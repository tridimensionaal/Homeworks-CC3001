{
 "cells": [
  {
   "cell_type": "markdown",
   "metadata": {},
   "source": [
    "# CC3001 Otoño 2020 Tarea 4\n",
    "# Generación de código\n",
    "\n",
    "Profesores: Sección 1 Patricio Poblete / Sección 2 Nelson Baloian\n",
    "\n",
    "Plazo: Lunes 8 de junio de 2020 a las 23:59"
   ]
  },
  {
   "cell_type": "markdown",
   "metadata": {},
   "source": [
    "El objetivo de esta tarea es aprender sobre la manipulación de árboles que representan fórmulas. Hay muchas cosas que uno puede hacer con estos árboles, y en esta tarea nos enfocaremos en particular en algo que los compiladores hacen: la **generación de código** para evaluar fórmulas.\n",
    "\n",
    "Específicamente, el problema es: dada una fórmula, generar una secuencia de instrucciones elementales que la evalúen. Por ejemplo, dada una fórmula como\n",
    "\n",
    "```\n",
    "(a+b)*(c-d)\n",
    "```\n",
    "\n",
    "se podría generar código como el siguiente:\n",
    "\n",
    "```\n",
    "t1=a+b\n",
    "t2=c-d\n",
    "t3=t1*t2\n",
    "```\n",
    "\n",
    "Las instrucciones elementales son siempre de la forma ``ti=x op y``, donde ``ti`` es una variable temporal, ``x`` e ``y`` pueden ser variables o números, y ``op`` es un operador. Uno va creando variables ``t1``, ``t2``, ... a medida que las necesita, y la última de ellas es la que almacena el valor final de la fórmula.\n",
    "\n",
    "Las fórmulas pueden ser arbitrariamente complicadas, como por ejemplo la fórmula\n",
    "\n",
    "$$\n",
    "(2-p\\,q)\\left( \\frac{1}{n}+\\frac{1}{p+q}\\right)\n",
    "$$\n",
    "\n",
    "la cual escribimos como\n",
    "\n",
    "```\n",
    "(2-p*q)*(1/n+1/(p+q))\n",
    "```\n",
    "\n",
    "y cuyo código generado podría ser,\n",
    "\n",
    "```\n",
    "t1=p*q\n",
    "t2=2-t1\n",
    "t3=1/n\n",
    "t4=p+q\n",
    "t5=1/t4\n",
    "t6=t3+t5\n",
    "t7=t2*t6\n",
    "```\n",
    "\n",
    "El objetivo de esta tarea es que usted implemente una función que, dado un árbol ya construído, lo recorra para generar una secuencia de instrucciones elementales que lo evalúe.\n",
    "\n",
    "A continuación usted encontrará clases ``Nodoi``, ``Nodoe`` y ``Arbol`` que implementan árboles que representan fórmulas. La clase ``Arbol`` viene con un constructor que recibe un string como parámetro, el cual contiene una fórmula, y este constructor se encarga de transformar la fórmula de string a árbol, de modo que usted no necesita preocuparse de eso. Para simplificar, la fórmula solo podrá contener variables de una sola letra, números de un solo dígito, y sin espacios. Los operadores permitidos son solo suma, resta, multiplicación y división. No hay operador menos unario.\n",
    "\n",
    "Usted tienen que implementar para la clase ``Arbol`` una función ``codigo`` que al ser invocado genere una secuencia de instrucciones elementales para evaluar la fórmula representada por ese árbol, y la retorne en forma de una lista (de Python)."
   ]
  },
  {
   "cell_type": "code",
   "execution_count": 1,
   "metadata": {},
   "outputs": [],
   "source": [
    "class Nodoi:\n",
    "    def __init__(self, izq, info, der):\n",
    "        self.izq=izq\n",
    "        self.info=info\n",
    "        self.der=der\n",
    "        self.var = \"\"\n",
    "    def postorden(self):\n",
    "        self.izq.postorden()   \n",
    "        self.der.postorden()\n",
    "        print(self.info, end=\" \")\n",
    "        \n",
    "    def variable(self):\n",
    "        global i\n",
    "        global codigo\n",
    "        a = self.izq.variable()\n",
    "        b = self.der.variable()\n",
    "        t = 't' + str(i) + '=' + a + self.info + b\n",
    "        codigo += [t]\n",
    "        self.var = 't' + str(i)\n",
    "        i+=1\n",
    "        return self.var\n",
    "\n",
    "\n",
    "        \n",
    "class Nodoe:\n",
    "    def __init__(self, info):\n",
    "        self.info=info\n",
    "    def postorden(self):\n",
    "        print(self.info, end=\" \")\n",
    "    def variable(self):\n",
    "        return self.info\n",
    "\n",
    "class Arbol:\n",
    "    def __init__(self,formula):\n",
    "        global k\n",
    "        global s\n",
    "        s=formula+\";\" # agregamos una marca de fin de la entrada\n",
    "        k=0 # indica próximo caracter por procesar\n",
    "        # definimos funciones para analizar la fórmula\n",
    "        def expresion(): # retorna puntero a la raíz de un árbol que representa a la fórmula s\n",
    "            global k\n",
    "            global s\n",
    "            a=factor()\n",
    "            while s[k]==\"+\" or s[k]==\"-\":\n",
    "                op=s[k]\n",
    "                k+=1\n",
    "                b=factor()\n",
    "                a=Nodoi(a,op,b)\n",
    "            return a\n",
    "        \n",
    "        def factor():\n",
    "            global k\n",
    "            global s\n",
    "            a=termino()\n",
    "            while s[k]==\"*\" or s[k]==\"/\":\n",
    "                op=s[k]\n",
    "                k+=1\n",
    "                b=termino()\n",
    "                a=Nodoi(a,op,b)\n",
    "            return a\n",
    "        \n",
    "        def termino(): # posible constante, variable o formula parentizada\n",
    "            global k\n",
    "            global s\n",
    "            if s[k].isalpha() or s[k].isdigit():\n",
    "                a=Nodoe(s[k])\n",
    "                k+=1\n",
    "                return a\n",
    "            if s[k]==\"(\": # fórmula parentizada\n",
    "                k+=1\n",
    "                a=expresion()\n",
    "                if s[k]!=\")\":\n",
    "                    print(\"Error: Falta cierra paréntesis: \"+formula[k:])\n",
    "                    assert False\n",
    "                k+=1\n",
    "                return a\n",
    "            print(\"Error: Falta variable, número o abre paréntesis: \"+formula[k:])\n",
    "            assert False\n",
    "              \n",
    "        a=expresion()\n",
    "        if s[k]!=\";\":\n",
    "            print(\"Error: Basura al final de la fórmula: \"+formula[k:])\n",
    "            assert False                \n",
    "        self.raiz=a\n",
    "        \n",
    "    def postorden(self):\n",
    "        print(\"Postorden:\", end=\" \")\n",
    "        self.raiz.postorden()\n",
    "        print()\n",
    "    \n",
    "    def codigo(self):\n",
    "        global codigo\n",
    "        global i\n",
    "        i = 1\n",
    "        codigo = []\n",
    "        if isinstance(self.raiz, Nodoi):\n",
    "            self.raiz.variable()\n",
    "        else:\n",
    "            codigo = ['t' + str(i) + '=' + self.raiz.info]\n",
    "        return codigo"
   ]
  },
  {
   "cell_type": "markdown",
   "metadata": {},
   "source": [
    "A continuación probamos esta funcionalidad con varias fórmulas de ejemplo. Para ver si el árbol fue construido correctamente, lo recorremos en postorden para imprimirlo en notación polaca. **Importante**: La notación polaca no tiene nada que ver con lo que ustedes tienen que hacer, es solo una manera de poder imprimir el árbol generado para chequear que esté bien construido.\n"
   ]
  },
  {
   "cell_type": "code",
   "execution_count": 2,
   "metadata": {},
   "outputs": [
    {
     "name": "stdout",
     "output_type": "stream",
     "text": [
      "Postorden: a b * c * \n",
      "Postorden: a b + c d - * \n",
      "Postorden: 2 p q * - 1 n / 1 p q + / + * \n"
     ]
    }
   ],
   "source": [
    "Arbol(\"a*b*c\").postorden()\n",
    "Arbol(\"(a+b)*(c-d)\").postorden()\n",
    "Arbol(\"(2-p*q)*(1/n+1/(p+q))\").postorden()"
   ]
  },
  {
   "cell_type": "markdown",
   "metadata": {},
   "source": [
    "## Solución"
   ]
  },
  {
   "cell_type": "markdown",
   "metadata": {},
   "source": [
    "Véase el siguiente ejemplo:\n",
    "```python\n",
    "formula = (a+b)*(c+d)\n",
    "```\n",
    "\n",
    "La generación de variables para la fórmula viene dado por:\n",
    "```python\n",
    "t1 = a+b\n",
    "t2 = c+d\n",
    "t3 = t1*t2\n",
    "```\n",
    "\n",
    "Nótese que el orden de generación de las variables presenta una estructura similar a un orden postorden, es decir, si se quiere saber la variable asociada a la raíz, se recorre el subárbol izquierdo entero para conocer la variable asociada a éste subarbol y luego se recorre el subárbol derecho entero para conocer la variable asociada a éste subarbol. Finalmente, dada las dos variables, se tiene la variable asociada a la raíz.\n",
    "\n",
    "Para implementar el procedimiento mencionado anteriormente, primeramente, se modificaron las Clases ``Nodoi`` y ``Nodoe``.\n",
    "\n",
    "Para la clase ``Nodoi`` se agregó el siguiente atributo:\n",
    "```python\n",
    "        self.var = \"\"\n",
    "```\n",
    "\n",
    "Asimismo, se agregó el siguiente método:\n",
    "```python \n",
    "    def variable(self):\n",
    "        global i\n",
    "        global codigo\n",
    "        a = self.izq.variable()\n",
    "        b = self.der.variable()\n",
    "        t = 't' + str(i) + '=' + a + self.info + b\n",
    "        codigo += [t]\n",
    "        self.var = 't' + str(i)\n",
    "        i+=1\n",
    "        return self.var\n",
    "    ```\n",
    "El método ``variable`` de la clase ``Ǹodoi`` obtiene la variable asociada al nodo de forma recursiva (obteniendo la variable asociada al hijo izquierdo y obteniendo la variable asociada al hijo derecho). Del mismo modo, en un variable global ``codigo`` guarda la expresion asociada a la variable. La función retorna la variable asociada al nodo.\n",
    "\n",
    "Para la clase ``Nodoe`` se agregó el siguiente método:\n",
    "```python \n",
    "    def variable(self):\n",
    "        return self.info\n",
    "```\n",
    "\n",
    "Finalmente, dentro de la clase ``Arbol`` se agregó el siguiente método:\n",
    "```python\n",
    "    def codigo(self):\n",
    "        global codigo\n",
    "        global i\n",
    "        i = 1\n",
    "        codigo = []\n",
    "        if isinstance(self.raiz, Nodoi):\n",
    "            self.raiz.variable()\n",
    "        else:\n",
    "            codigo = ['t' + str(i) + '=' + self.raiz.info]\n",
    "        return codigo\n",
    "```\n",
    "Método que retorna un lista con todas las varibles temporales necesarias para la generación del código.\n",
    "\n",
    "En caso de tener una fórmula del tipo ``a``, el método retorna:\n",
    "```python\n",
    "codigo = [\"t1=a\"]\n",
    "```\n",
    "En caso contrario, recorre recursivamente el árbol para generar las variables necesarias."
   ]
  },
  {
   "cell_type": "markdown",
   "metadata": {},
   "source": [
    "## Resultados\n"
   ]
  },
  {
   "cell_type": "markdown",
   "metadata": {},
   "source": [
    "En esta sección probamos la generación de código que usted tiene que escribir. Mientras usted no sustituya la función ``codigo`` provisoria que viene en la definición de la clase, va a aparecer la lista que generamos ahí. Primero vamos a definir una función ``probar`` que genera el código a partir de una fórmula dada e imprime el resultado:"
   ]
  },
  {
   "cell_type": "code",
   "execution_count": 3,
   "metadata": {},
   "outputs": [],
   "source": [
    "def probar(formula):\n",
    "    a=Arbol(formula)\n",
    "    for x in a.codigo():\n",
    "        print(x)"
   ]
  },
  {
   "cell_type": "markdown",
   "metadata": {},
   "source": [
    "A continuación probamos con varias fórmulas. Además de las fórmulas dadaas, usted tiene que agregar tres ejemplos adicionales."
   ]
  },
  {
   "cell_type": "code",
   "execution_count": 4,
   "metadata": {},
   "outputs": [
    {
     "name": "stdout",
     "output_type": "stream",
     "text": [
      "t1=a+1\n"
     ]
    }
   ],
   "source": [
    "probar(\"a+1\")"
   ]
  },
  {
   "cell_type": "code",
   "execution_count": 5,
   "metadata": {},
   "outputs": [
    {
     "name": "stdout",
     "output_type": "stream",
     "text": [
      "t1=a+b\n",
      "t2=c-d\n",
      "t3=t1*t2\n"
     ]
    }
   ],
   "source": [
    "probar(\"(a+b)*(c-d)\")"
   ]
  },
  {
   "cell_type": "code",
   "execution_count": 6,
   "metadata": {},
   "outputs": [
    {
     "name": "stdout",
     "output_type": "stream",
     "text": [
      "t1=p*q\n",
      "t2=2-t1\n",
      "t3=1/n\n",
      "t4=p+q\n",
      "t5=1/t4\n",
      "t6=t3+t5\n",
      "t7=t2*t6\n"
     ]
    }
   ],
   "source": [
    "probar(\"(2-p*q)*(1/n+1/(p+q))\")"
   ]
  },
  {
   "cell_type": "code",
   "execution_count": 7,
   "metadata": {},
   "outputs": [
    {
     "name": "stdout",
     "output_type": "stream",
     "text": [
      "t1=a+b\n",
      "t2=t1+c\n",
      "t3=t2+d\n",
      "t4=t3+e\n"
     ]
    }
   ],
   "source": [
    "probar(\"((((a+b)+c)+d)+e)\")"
   ]
  },
  {
   "cell_type": "code",
   "execution_count": 8,
   "metadata": {},
   "outputs": [
    {
     "name": "stdout",
     "output_type": "stream",
     "text": [
      "t1=d+e\n",
      "t2=c+t1\n",
      "t3=b+t2\n",
      "t4=a+t3\n"
     ]
    }
   ],
   "source": [
    "probar(\"(a+(b+(c+(d+e))))\")"
   ]
  },
  {
   "cell_type": "code",
   "execution_count": 9,
   "metadata": {},
   "outputs": [
    {
     "name": "stdout",
     "output_type": "stream",
     "text": [
      "t1=a+b\n",
      "t2=c+d\n",
      "t3=t2*c\n",
      "t4=t1+t3\n",
      "t5=p+q\n",
      "t6=2-t5\n",
      "t7=1/n\n",
      "t8=n+q\n",
      "t9=1/t8\n",
      "t10=t7+t9\n",
      "t11=t6+t10\n",
      "t12=t4+t11\n"
     ]
    }
   ],
   "source": [
    "probar(\"((a+b)+((c+d)*c))+(2-(p+q)+((1/n)+(1/(n+q))))\")"
   ]
  },
  {
   "cell_type": "markdown",
   "metadata": {},
   "source": [
    "## Discusión"
   ]
  },
  {
   "cell_type": "markdown",
   "metadata": {},
   "source": [
    "Suponga que hay escasez de variables temporales, así que se le ha pedido que trate de reciclarlas lo más posible, y solo crear nuevas variables ``ti`` cuando sea estrictamente necesario. Por ejemplo, para la fórmula\n",
    "\n",
    "```\n",
    "((a+b)*c)+((d-e)/f)\n",
    "```\n",
    "\n",
    "si generamos código como lo hemos hecho en los ejemplos anteriores (código de la izquierda), se usan 5 variables temporales, pero el código de la derecha muestra que se puede evaluar usando solo 2:\n",
    "\n",
    "```\n",
    "t1=a+b               t1=a+b\n",
    "t2=t1+c              t1=t1*c\n",
    "t3=d-e               t2=d-e\n",
    "t4=t3/f              t2=t2/f\n",
    "t5=t2+t4             t1=t1+t2\n",
    "```\n",
    "\n",
    "Discuta cómo se podría modificar su algoritmo para que (1) use menos variables temporales, y luego (2) para que use el mínimo posible de variables temporales.\n",
    "\n",
    "No es necesario que implemente nada, solo que discuta cómo se podría hacer."
   ]
  },
  {
   "cell_type": "markdown",
   "metadata": {},
   "source": [
    "(1) Nótese que, inicialmente, la cantidad de variables generadas es igual a la cantidad de nodos internos del árbol. Lo anterior es debido a que, en cada nodo interno, se realiza alguna operación y, dada una operación, se asigna una variable a dicha operación.\n",
    "\n",
    "De esa forma, para el nodo raíz, si en el hijo izquierdo se utilizaron variables de $1$ a $i$ y en el hijo derecho se utilizaron variables de $i+1$ a $j$, en total en el arbol se ocuparon $j+1$ variables, dado que la expresión para la raíz se define como:\n",
    "$$ t_{j+1} = t_{i} \\circ t_{j} $$\n",
    "\n",
    "donde $\\circ$ es el operador asociado a la raíz. \n",
    "\n",
    "Nótese que se puede realizar lo siguiente para la variable de la raíz. Inicialmente se tiene:\n",
    "$$ t_{j+1} = t_{i} \\circ t_{j} $$\n",
    "\n",
    "Lo cual puede ser escrito de la siguiente forma:\n",
    "$$ t_{j} = t_{i} \\circ t_{j} $$\n",
    "\n",
    "De esa forma, se reduce en una las variables totales a ocupar.\n",
    "\n",
    "El procedimiento anterior se puede aplicar a todos los nodos internos del árbol, de esa forma, se reduce el uso de variables temporales.\n",
    "\n",
    "(2) Ahora, más específicamente, ¿cuántas variables temporales se pueden dejar de usar?. Es decir, dado un árbol que representa una fórmula, ¿de qué forma se pueden utilzar el mínimo de variables temporales para realizar la generación de código de dicho árbol?\n",
    "\n",
    "Supóngase que se tiene un árbol $A$. Para generar el código, se tiene que recorrer el subárbol izquierdo completo y luego recorrer el subárbol derecho completo. Nótese que, al recorrer el subárbol izquierdo y obtener la variable asociada a éste, se necesita $1$ o $0$ variables para guardar el resultado final (el caso $0$ es cuando el subárbol izquiero es solo una hoja). Por el otro lado, al recorrer el subárbol derecho y obtener la variable asociada a éste, se necesita $1$ o $0$ variables para guardar el resultado final (el caso $0$ es cuando el subárbol derecho es solo una hoja). Con lo anterior, se tienen los siguientes casos:\n",
    "\n",
    "<ol> \n",
    "    <li> El subárbol izquierdo es una hoja y el subárbol derecho también. Luego, para el árbol en total, se necesita utilizar solo $1$ variable temporal. </li>\n",
    "    <li> El subárbol izquierdo es una hoja y el subárbol derecho es un árbol (nodo interno). Luego, para el árbol en total, se necesitan utilizar $j$ variables temporales, con $j$ la cantidad mínima de variables que se tienen que utilizar para obtener la variable asociada al subárbol derecho </li>\n",
    "    <li> El subárbol izquierdo es un árbol y el subárbol derecho es una hoja. Luego, para el árbol en total, se necesitan utilizar $i$ variables temporales, con $i$ la cantidad mínima de variables que se tienen que utilizar para obtener la variable asociada al subárbol izquierdo. </li> \n",
    "    <li> El subárbol izquierdo es un árbol y el subárbol derecho es un árbol. Ahora, supóngase que el mínimo de variables a utilizar en el árbol izquierdo son $i$. Luego, para el subárbol derecho supóngase que se ocupan como mínimo $j$ nuevas variables. Así, para el árbol en total, se ocupan $ \\max \\{i, j+1 \\}$ variables.</li>\n",
    "</ol>\n",
    "   \n",
    "Con las observaciones anteriores, se puede generar un procedimiento recursivo para utilizar la menor cantidad. Véase el siguiente ejemplo.  \n",
    "```\n",
    "    ((a+b)*c)+((d-e)/f)\n",
    "```\n",
    "\n",
    "Se tiene el nodo raíz ``+``. Dado el nodo, se recorre el subárbol izquierdo ``((a+b)*c)``. Se repite el procedimiento en el subárbol hasta notar que, el árbol ``(a+b)``  tiene como hijos a dos hojas. Luego, se necesita utilizar 1 variable ``t1`` para almacernar al árbol ``(a+b)``. Ahora, para el árbol ``((a+b)*c)`` necesita solo 1 variable para almacernar el árbol dada las reglas mencionadas anteriormente y, por tanto, se reutiliza la variable ocupada en ``(a+b)``, es decir, se guarda el resultado en un variable ``t1``. Para el árbol,  ``((d-e)/f)`` se repite un procedimiento similar al anterior notando que se necesita solo $1$ variable nueva. Sin embargo, en el subárbol derecho ``((d-e)/f)``, las variables deben empezar en $2$.  Lo anterior es debido a que, como el resultado final del subárbol derecho se debe guardar en una variable, se escoge ``t1`` como la variable y para el subárbol derecho no está disponble esa variable. Luego, para almacenar el subárbol derecho se utiliza ``t2``. Finalmente, se tiene que ``t1 = t1+t2``. Así, el mínimo de variables usadas en el árbol es  $ \\max \\{1, 1+1\\} = 2$ variables. \n",
    "\n",
    "Realizando este procedimiento basado en las $4$ reglas expuestas anteriormente, se utiliza el mínimo de variables temporales para realizar la generación de código para cualquier árbol."
   ]
  }
 ],
 "metadata": {
  "kernelspec": {
   "display_name": "Python 3",
   "language": "python",
   "name": "python3"
  },
  "language_info": {
   "codemirror_mode": {
    "name": "ipython",
    "version": 3
   },
   "file_extension": ".py",
   "mimetype": "text/x-python",
   "name": "python",
   "nbconvert_exporter": "python",
   "pygments_lexer": "ipython3",
   "version": "3.6.9"
  }
 },
 "nbformat": 4,
 "nbformat_minor": 4
}
