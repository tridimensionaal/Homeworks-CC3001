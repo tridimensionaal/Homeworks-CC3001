{
 "cells": [
  {
   "cell_type": "markdown",
   "metadata": {},
   "source": [
    "# TAREA 2\n",
    "\n",
    "La siguiente tarea consiste en desarrollar una calculadora de expresiones matemáticas, pero con capacidad de procesar un conjunto de comandos bien restringido.\n",
    "\n",
    "\n",
    "#### LA CALCULADORA\n",
    "Más específicamente, las reglas de la calculadora son las siguientes:\n",
    "<ol> \n",
    "    <li> Cada comando es de la forma:“variable = expresión”. El efecto es que se debe calcular la expresión de la derecha, guardar el resultado en la variable de la izquierda e imprimir el resultado en la salida. Si se omite desde el '=' hacia delante, solo se imprime el valor de la variable. Las variables comienzan con una letra y continúan con letras, dígitos o el signo '_'.</li>\n",
    "    <li> Los operadores permitidos son '+', '-', '*', '/', '^'. </li>\n",
    "    <li> Solo se trabaja con números enteros y todas las operaciones dan resultado entero (incluyendo la división, que trunca) </li>\n",
    "    <li> Para simplificar, no se puede usar paréntesis y la expresión se evalúa estrictamente de izquierda a derecha </li>\n",
    "    <li> Si se utiliza una variable que aún no ha sido definida, se debe dar un error:\n",
    "        <br>\n",
    "        <p style=\"text-align:center\">Error variable indefinida: \"..\"</p>\n",
    "        indincando el nombre de la variable.\n",
    "        <br>\n",
    "    </li>\n",
    "    <li> Si la sintaxis no es correcta, se debe imprimir en la salida un mensaje de la forma:\n",
    "        <br>\n",
    "        <p style=\"text-aling:center\">Error al procesar: \"..\" </p>\n",
    "        <br>\n",
    "        donde el string que se imprime es la parte de la entrada desde el punto del error hacia adelante </li>\n",
    "</ol>\n",
    "\n",
    "Un ejemplo de funcionamiento de la calculadora es el siguiente:\n",
    "<br>\n",
    "\n",
    "\\>> n=5 <br>\n",
    "5 <br>\n",
    "\\>>hanoi=2^n-1 <br>\n",
    "31 <br>\n",
    "\\>>var_1 = 23 - 13 + hanoi\\*2 <br>\n",
    "82 <br>\n",
    "\\>>h2 = hanoi /2 <br>\n",
    "15 <br>\n",
    "\\>> n <br>\n",
    "5\n",
    "<br>\n",
    "\n",
    "Es importante hacer notar que, la calculadora, debe procesar un caracter a la vez.\n",
    "    "
   ]
  },
  {
   "cell_type": "markdown",
   "metadata": {},
   "source": [
    "#### DIAGRAMAS DE ESTADO\n",
    "\n",
    "Para entender el funcionamiento y las lógicas detrás de la calculadora, se desarrollarán diversos diagramas de estados.\n",
    "\n",
    "En primera instancia, nótese que la calculadora funciona a través de comandos. Luego, conociendo la estructura de los comandos, se puede determinar qué hacer.\n",
    "\n",
    "A grandes rasgos, el funcionamiento de la calculadora es el siguiente:"
   ]
  },
  {
   "cell_type": "markdown",
   "metadata": {},
   "source": [
    "##### DIAGRAMA DE ESTADO GENERAL DE LA CALCULADORA\n",
    "![title](d1.jpg)"
   ]
  },
  {
   "cell_type": "markdown",
   "metadata": {},
   "source": [
    "La calculadora consta de cuatro estados principales:\n",
    "<ol>\n",
    "    <li> <b>Estado Variable Inicial:</b> Estado que procesa todo lo relacionado con el nombre de la variable inicial. </li>\n",
    "    <li> <b>Estado =:</b> Estado de paso entre el estado Variable Inicial y el estado Expresion: </li>\n",
    "    <li> <b>Estado Expresión:</b> Estado que procesa todo lo relacionado con el valor asociado a la expresión</li>\n",
    "    <li> <b>Estado Imprimir:</b> Estado que imprime el valor de la expresión asociada a la variable inicial.\n",
    "</ol> \n",
    "        \n",
    "Nótese que un comando puede ser de la forma \"variable=expresion\". En ese caso, la calculadora debe procesar el nombre de la variable, calcular la expresión, asignar a la variable el valor de la expresión e imprimir el valor calculadora.\n",
    "\n",
    "Por el otro, un comando puede ser de la forma \"variable\". En ese caso, la calculadora debe procesar el nombre de la variable e imprimir el valor asociada a la variable. \n",
    "\n",
    "También existe un caso particular donde el comando es vacío, en ese caso no ocurre nada.\n",
    "\n",
    "\n",
    "Sin embargo, en el comando pueden existir los espacios. Además, el comando puede tener un error de sintaxis o un error de variable indefinida. En ese sentido, agregar estos factores complejiza bastante el diagrama de estado de la calculadora. Por esa razón, se realizarán diagramas de estado particulares para el estado \"Variable Inicial\" y el estado \"Expresión\".\n",
    "\n",
    "Para realizar los diagramas, se asumirá que el comando está guardado en un string _s_ de largo _l_ y que la posición del caracter actual es _i_.\n",
    "\n",
    "Así, el diagrama de estado del estado \"Variable Inicial\" es el siguiente:"
   ]
  },
  {
   "cell_type": "markdown",
   "metadata": {},
   "source": [
    "##### DIAGRAMA DE ESTADO VARIABLE INICIAL\n",
    "![title](d2.jpg)"
   ]
  },
  {
   "cell_type": "markdown",
   "metadata": {},
   "source": [
    "El funcionamiento es el siguiente:\n",
    "<ol>\n",
    "    <li> En caso de tener un comando vacío, no ocurre nada y se termina el proceso.</li>\n",
    "    <li> El primer caracter solo puede ser un espacio o una letra. En caso contrario, se tiene un error de sintaxis. </li>\n",
    "    <li> Si el primer caracter es un espacio, se busca el primer caracter que no sea un espacio. En caso de que el primer caracter que no es un espacio no es una letra, se tiene un error de sintaxis. También puede ocurrir que no hay más caracteres luego de los espacios, es decir, el comando es un comando de espacios. En ese caso, no ocurre nada y se termina el proceso. </li>\n",
    "    <li> En caso de encontrar una letra después de los espacios (o que el primer caracter sea una letra) se guarda el nombre de la variable mientras haya un caracter válido (una letra, un número o un signo '_') </li>\n",
    "    <li> Luego de guardar el nombre, el caracter siguiente solo puede ser un espacio o un operador '='. En caso contrario, se tiene un error de sintaxis. También existe el caso en donde el último caracter es una caracter válido. En ese caso, se verifica si existe la variable. En caso de existir, se imprime el valor asociada a la variable el proceso. Por el contrario, si la variable no existe, se tiene un error de variable indefinida. En ambos casos, luego de realizar las acciones correspondientes, se termina el proceso. </li>\n",
    "    <li> Si luego de guarda el nombre de la variable hay un espacio, se busca el caracter posterior a la variable que no sea un espacio. En caso de que el caracter posterior que no es un espacio no es el operador '=', se tiene un error de sintaxis. También existe el caso en donde luego del nombre de la variable, solo hay espacios. En ese caso, se verifica si existe la variable. En caso de existir, se imprime el valor asociada a la variable el proceso. Por el contrario, si la variable no existe, se tiene un error de variable indefinida. En ambos casos, luego de realizar las acciones correspondientes, se termina el proceso. </li>\n",
    "     <li> En caso de encontrar el operador '=' después de los espacios (o que el operador '=' sea el caracter posterior al nombre de la variable) se entra al estado de paso \"=\". </li>\n",
    "</ol>\n",
    "\n",
    "Ahora, para empezar con el estado \"Expresión\", se realizará un diagrama general del estado.\n"
   ]
  },
  {
   "cell_type": "markdown",
   "metadata": {},
   "source": [
    "##### DIAGRAMA GENERAL DEL ESTADO EXPRESION\n",
    "![title](d3.jpg)"
   ]
  },
  {
   "cell_type": "markdown",
   "metadata": {},
   "source": [
    "Las expresiones son de la forma:\n",
    "\n",
    "$$ \\text{Expresión} = \\text{(Variable o Número)} \\circ \\text{(Variable o Número)} \\circ \\text{...} \\circ \\text{(Variable o Número)}$$\n",
    "\n",
    "Donde $\\circ$ es un operador (+, -, \\*, /, ^). \n",
    "\n",
    "Dada la estructura anterior, a grandes rasgos, el funcionamiento es el siguiente:\n",
    "\n",
    "1\\. Inicialmente, el operador actual es el operador '=' y el valor actual de la expresión es cero.<br>\n",
    "2\\. Luego del operador actual, viene una variable o número.<br>\n",
    "3\\. Después de procesar la variable o número, se realiza la operación asociada al operador actual. Se tiene un nuevo valor para la expresión dado por la operación entre el valor actual de la expresión y la variable o número. Luego, el valor actual de la expresión es el nuevo valor.  En términos generales, la operación es:\n",
    "\n",
    "$$ \\text{Nuevo valor expresión} = \\text{Valor actual expresion} \\circ \\text{Variable o Número} $$\n",
    "\n",
    "4\\. Luego de realizar la operación, puede existir otro operador o terminar la expresión. <br>\n",
    "5\\. En caso de existir otro operador, el nuevo operador es guardado como el operador actual y se vuelve al punto 2, es decir, se repite el proceso. <br>\n",
    "6\\. En caso de terminar la expresión, se imprime el valor actual de la expresión y se termina el proceso.\n",
    "\n",
    "Sin embargo, igualmente que en el estado \"Variable Inicial\", en el comando, más específicamente, en la expresión del comando, pueden existir los espacios. Además, la expresión del comando puede tener un error de sintaxis o un error de variable indefinida. En ese sentido, agregar estos factores complejiza bastante el diagrama de estado de la expresión. \n",
    "\n",
    "Por esta razón, se realizarán dos diagramas de estado para el estado \"Expresión\". El primer diagrama contendrá detalles del funcionamiento del estado cuando se está procesando una variable. El segundo diagrama contendrá detalles del funcionamiento del estado cuando se está procesando un número.\n",
    "\n",
    "\n",
    "\n",
    "        "
   ]
  },
  {
   "cell_type": "markdown",
   "metadata": {},
   "source": [
    "##### DIAGRAMA ESTADO EXPRESIÓN  PROCESANDO UNA VARIABLE\n",
    "![title](d4.jpg)"
   ]
  },
  {
   "cell_type": "markdown",
   "metadata": {},
   "source": [
    "##### DIAGRAMA ESTADO EXPRESIÓN PROCESANDO UN NÚMERO\n",
    "![title](d5.jpg)"
   ]
  },
  {
   "cell_type": "markdown",
   "metadata": {},
   "source": [
    "#### CÓDIGO\n",
    "El cógido del programa se va a estrucutrar en términos general de la siguiente manera.\n",
    "<ol>\n",
    "    <li> Se tendrán 4 variable globales: \n",
    "        <ol>\n",
    "            <li> Una string <i> s </i> que representa el comando. </li>\n",
    "            <li> Un entero <i> l </i> que representa el largo del comando. </li>\n",
    "            <li> Un entero <i> i </i> que representa la posición actual. </li>\n",
    "            <li> Un diccionario <i> dic </i> que representa un diccionario que contiene las variables existenten con sus respectivos valores. </li>\n",
    "        </ol> \n",
    "    </li>\n",
    "    <li> Se procesará un caracter a la vez y existirán dos estados principales (estado \"Variable Inicial\" y estado \"Expresión\") expresados en dos funciones distintas.</li>\n",
    "    <li> Para hacer más ordenado el cógido, se tendrán funciones auxiliares que se encargarán de diversos subprocesos dentro de los dos estados principales. </li> \n",
    "</ol>\n",
    "\n",
    "\n",
    "Ahora, el código y las respectivas funciones para realizar la calculadora son lo siguiente:\n",
    "    "
   ]
  },
  {
   "cell_type": "markdown",
   "metadata": {},
   "source": [
    "1- Función que procesa los espacios."
   ]
  },
  {
   "cell_type": "code",
   "execution_count": 1,
   "metadata": {},
   "outputs": [],
   "source": [
    "def espacios():\n",
    "    global s\n",
    "    global l\n",
    "    global i\n",
    "    \n",
    "    while i < l:\n",
    "        if s[i]==' ':\n",
    "            i+=1\n",
    "        else:\n",
    "            break\n",
    "    return\n"
   ]
  },
  {
   "cell_type": "markdown",
   "metadata": {},
   "source": [
    "2- Función que procesa el nombre de una variable y retorna el nombre."
   ]
  },
  {
   "cell_type": "code",
   "execution_count": 2,
   "metadata": {},
   "outputs": [],
   "source": [
    "def nombre():\n",
    "    global s\n",
    "    global l\n",
    "    global i\n",
    "    name = \"\"\n",
    "    while i < l:\n",
    "        if s[i].isalpha() or s[i].isnumeric() or s[i]=='_':\n",
    "            name += s[i]\n",
    "            i+=1\n",
    "        else:\n",
    "            break\n",
    "    return name"
   ]
  },
  {
   "cell_type": "markdown",
   "metadata": {},
   "source": [
    "3- Función que procesa un número y retorna el número."
   ]
  },
  {
   "cell_type": "code",
   "execution_count": 3,
   "metadata": {},
   "outputs": [],
   "source": [
    "def numero():\n",
    "    global s\n",
    "    global l\n",
    "    global i\n",
    "    num = 0\n",
    "    while i < l:\n",
    "        if s[i].isnumeric():\n",
    "            num *= 10\n",
    "            num += int(s[i])\n",
    "            i+=1\n",
    "        else:\n",
    "            break\n",
    "    return num\n"
   ]
  },
  {
   "cell_type": "markdown",
   "metadata": {},
   "source": [
    "4- Función que imprime un error de sintaxis."
   ]
  },
  {
   "cell_type": "code",
   "execution_count": 4,
   "metadata": {},
   "outputs": [],
   "source": [
    "def errorSintaxis():\n",
    "    global s\n",
    "    global l\n",
    "    global i\n",
    "    error = \"\"\n",
    "    for j in range(i,l):\n",
    "        error += s[j]\n",
    "    print(\"Error al procesar: \", error)\n",
    "    return\n"
   ]
  },
  {
   "cell_type": "markdown",
   "metadata": {},
   "source": [
    "5- Función que imprime un error de variable indefinida."
   ]
  },
  {
   "cell_type": "code",
   "execution_count": 5,
   "metadata": {},
   "outputs": [],
   "source": [
    "def errorVariable(nombre):\n",
    "    print(\"Error variable indefinda: \", nombre)\n",
    "    return"
   ]
  },
  {
   "cell_type": "markdown",
   "metadata": {},
   "source": [
    "6- Función que, dado un caracter, verifica si el caracter es un operador válido. En caso de serlo, retorna verdadero y, en caso contrario, retorna falso. "
   ]
  },
  {
   "cell_type": "code",
   "execution_count": 6,
   "metadata": {},
   "outputs": [],
   "source": [
    "def operadorValido(c):\n",
    "    if c=='+' or c=='-' or c=='*' or c=='/' or c=='^':\n",
    "        return True\n",
    "    else:\n",
    "        return False"
   ]
  },
  {
   "cell_type": "markdown",
   "metadata": {},
   "source": [
    "7- Función que, dado un el valor actual de la expresion, el valor de la variable o númer actual y un operador, realiza la operación asociada al operador y retorna el nuevo valor de la expresión."
   ]
  },
  {
   "cell_type": "code",
   "execution_count": 7,
   "metadata": {},
   "outputs": [],
   "source": [
    "def operacion(valor,num,c):\n",
    "    if c =='=':\n",
    "        return num\n",
    "    elif c=='+':\n",
    "        return valor+num\n",
    "    elif c=='-':\n",
    "        return valor-num\n",
    "    elif c=='*':\n",
    "        return valor*num\n",
    "    elif c=='/':\n",
    "        return valor//num\n",
    "    else:\n",
    "        return valor**num\n",
    "    "
   ]
  },
  {
   "cell_type": "markdown",
   "metadata": {},
   "source": [
    "8- Función que, dado el nombre de una variable, verifica si la variable existe o no. Es caso de existir, retorna verdadero y, en caso contrario, retorna falso.\n"
   ]
  },
  {
   "cell_type": "code",
   "execution_count": 8,
   "metadata": {},
   "outputs": [],
   "source": [
    "def verificarVariable(nombre):\n",
    "    global dic\n",
    "    \n",
    "    if nombre in dic:\n",
    "        return True\n",
    "    else:\n",
    "        return False"
   ]
  },
  {
   "cell_type": "markdown",
   "metadata": {},
   "source": [
    "9- Función que, dado un nombre de una variable existente, retorna el valor asociada a la variable."
   ]
  },
  {
   "cell_type": "code",
   "execution_count": 9,
   "metadata": {},
   "outputs": [],
   "source": [
    "def valorVariable(nombre):\n",
    "    global dic\n",
    "    return dic[nombre]"
   ]
  },
  {
   "cell_type": "markdown",
   "metadata": {},
   "source": [
    "10- Función que, dado un nombre de una variable y un valor, agrega al diccionario el nombre de la variable con su respectivo valor."
   ]
  },
  {
   "cell_type": "code",
   "execution_count": 10,
   "metadata": {},
   "outputs": [],
   "source": [
    "def agregarVariable(nombre,valor):\n",
    "    global dic\n",
    "    dic[nombre] = valor\n",
    "    return"
   ]
  },
  {
   "cell_type": "markdown",
   "metadata": {},
   "source": [
    "11- Función encargada de procesar la expresión. En el código está comentado específicamente que realiza la función."
   ]
  },
  {
   "cell_type": "code",
   "execution_count": 11,
   "metadata": {},
   "outputs": [],
   "source": [
    "def expresion(variable_inicial):\n",
    "    global s\n",
    "    global l\n",
    "    global i \n",
    "    \n",
    "    #Inicialmente, el valor asociado a la expresión es 0 y el operador actual es =\n",
    "    valor = 0\n",
    "    operador = '='\n",
    "    \n",
    "    #Dada una posición actual i, se revisan los restantes caracteres del comando\n",
    "    while i < l:\n",
    "        #En este punto, el último caracter es un operador.\n",
    "        \n",
    "        #Se revisan los espacios\n",
    "        espacios()\n",
    "        \n",
    "        #El último caracter no puede ser un espacio (puesto que el último caracter que no es un espacio es un operador)\n",
    "        #En ese caso, se tiene un error de sintaxis\n",
    "        if i==l:\n",
    "            errorSintaxis()\n",
    "            return\n",
    "        \n",
    "        #Luego del operador y los posibles espacios, el caracter siguiente tiene que ser una letra o un dígito.\n",
    "        if s[i].isalpha() or s[i].isnumeric():\n",
    "            num = 0\n",
    "            \n",
    "            #El caracter siguiente es un letra\n",
    "            if s[i].isalpha():\n",
    "                variable = nombre()\n",
    "                \n",
    "                #Se verifica si la variable existe o no\n",
    "                if verificarVariable(variable):\n",
    "                    #si la variable existe, \n",
    "                    num = valorVariable(variable)\n",
    "                else:\n",
    "                    #si la variable no existe, hay un error de variable indefinida\n",
    "                    errorVariable(variable)\n",
    "                    return\n",
    "            #El caracter siguiente es un dígito    \n",
    "            else:\n",
    "                num = numero()\n",
    "                \n",
    "                #Si hay una división por cero, se tiene un error de sintaxis.\n",
    "                if operador=='/' and num==0:\n",
    "                    i-=1\n",
    "                    errorSintaxis()\n",
    "                    return\n",
    "            #Se calcula el nuevo valor de la expresión\n",
    "            valor = operacion(valor,num,operador)\n",
    "            \n",
    "            #Se revisan los espacios\n",
    "            espacios()\n",
    "            \n",
    "            #Si el comando se terminó, se guarda la variable y su respectivo valor y se imprime el valor\n",
    "            if i==l:\n",
    "                agregarVariable(variable_inicial,valor)\n",
    "                print(valor)\n",
    "                return\n",
    "            #Si existen más caracteres en el comando, el siguiente caracter debe ser un operador\n",
    "            if operadorValido(s[i]):\n",
    "                operador = s[i]\n",
    "                i += 1\n",
    "            #Si existen más caracteres en el comando, si el siguiente caracter no es un operador, existe un error de sintaxis\n",
    "            else:\n",
    "                errorSintaxis()\n",
    "                return\n",
    "        #Si luego del operador y los posible espacios, el siguiente caracter no es una letra o un espacio, se tiene un\n",
    "        #error de sintaxis\n",
    "        else:\n",
    "            errorSintaxis()\n",
    "            return\n",
    "    #El último caracter del comando fue un operador, luego se tiene un error de sintaxis.\n",
    "    errorSintaxis()\n",
    "    return\n",
    "                "
   ]
  },
  {
   "cell_type": "markdown",
   "metadata": {},
   "source": [
    "12- Función encargada de procesar la variable inicial. En el código está comentado específicamente que realiza la función."
   ]
  },
  {
   "cell_type": "code",
   "execution_count": 12,
   "metadata": {},
   "outputs": [],
   "source": [
    "def variableInicial():\n",
    "    global s\n",
    "    global l\n",
    "    global i\n",
    "    \n",
    "    #Se revisan los espacios\n",
    "    espacios()\n",
    "    \n",
    "    #En caso de que el comando sea vacío o sea solo un conjunto de espacios.\n",
    "    if i==l:\n",
    "        return\n",
    "    \n",
    "    #Luego de los posibles espacios, el primer caracter debe ser una letra\n",
    "    if s[i].isalpha():\n",
    "        variable_inicial = nombre()\n",
    "        \n",
    "        #se revisan los espacios\n",
    "        espacios()\n",
    "        \n",
    "        #En caso de que el comando sea de la forma \"variable\"\n",
    "        if i==l:\n",
    "            if verificarVariable(variable_inicial):\n",
    "                #Si la variable existe, se imprime su valor\n",
    "                print(valorVariable(variable_inicial))\n",
    "            else:\n",
    "                #Si la variable no existe, se tiene un error de variable indefinida\n",
    "                errorVariable(variable_inicial)\n",
    "            return\n",
    "        #Luego del nombre de la variable y posibles espacios, el siguiente caracter tiene que ser un operador\n",
    "        if s[i] == '=':\n",
    "            i+=1\n",
    "            expresion(variable_inicial)\n",
    "        #Si luego del nombre de la variable y posibles espacio, el siguiente caracter no es un operador, se tiene un\n",
    "        #error de sintaxis\n",
    "        else:\n",
    "            errorSintaxis()\n",
    "    #Si el primer caracter que no es una letra, se tiene un error de sintaxis.           \n",
    "    else:\n",
    "        errorSintaxis()\n",
    "    return"
   ]
  },
  {
   "cell_type": "markdown",
   "metadata": {},
   "source": [
    "13- Función que ejecuta la calculadora."
   ]
  },
  {
   "cell_type": "code",
   "execution_count": 13,
   "metadata": {},
   "outputs": [],
   "source": [
    "def calculadora():\n",
    "    global s\n",
    "    global l\n",
    "    global i\n",
    "    while True:\n",
    "        s = input(\">> \")\n",
    "        l = len(s)\n",
    "        i = 0\n",
    "        variableInicial()\n",
    "    return\n"
   ]
  },
  {
   "cell_type": "markdown",
   "metadata": {},
   "source": [
    "La implementación de la calculadora es la siguiente:"
   ]
  },
  {
   "cell_type": "code",
   "execution_count": null,
   "metadata": {},
   "outputs": [
    {
     "name": "stdout",
     "output_type": "stream",
     "text": [
      ">> n = 5\n",
      "5\n",
      ">> m = n\n",
      "5\n",
      ">> holasda\n",
      "Error variable indefinda:  holasda\n",
      ">>  0var = 1+2+3\n",
      "Error al procesar:  0var = 1+2+3\n",
      ">> _var = 1231+\n",
      "Error al procesar:  _var = 1231+\n",
      ">> var = 13+132**13\n",
      "Error al procesar:  *13\n",
      ">> var = n                 + m\n",
      "10\n",
      ">>                     a1983123___ASDDAsdasd_132123_ÑQEWQOWEAOEQWWEQDLASDLG = 1+1+1+1+1+1+*100/300+5000*3\n",
      "Error al procesar:  *100/300+5000*3\n"
     ]
    }
   ],
   "source": [
    "dic = {}\n",
    "s = \"\"\n",
    "i = 0\n",
    "l = 0\n",
    "calculadora()"
   ]
  },
  {
   "cell_type": "markdown",
   "metadata": {},
   "source": [
    "##### DISCUSIONES Y CONCLUSIONES:\n",
    "En el presente trabajo se develó la importancia de programar realizando, primeramente, diagramas de estado. Las ventajas de esta prácticas son las siguientes.\n",
    "\n",
    "<ol>\n",
    "    <li> Permiten tener un primer acercamiento más ordenado a un problema.</li>\n",
    "    <li> Permiten dividir un gran problema un sub-problemas más abordables. </li>\n",
    "    <li> Son una forma gráfica, relativamente simple y amigable de abordar un problema. </li>\n",
    "    <li> Ningún algoritmo está asociado directamente a un diagrama de estado, es decir, dado un diagrama de estado, existen diversos algoritmos para implementar un diagrama de estado. En ese sentido, los diagramas de estado presentan flexibilidad a la hora de implementarlos. </li>\n",
    "    <li> Sumado a lo anterior, los diagramas de estado permiten no ser una guía directa a la hora de implemtarlos y escribir código y, en ese sentido, permiten variaciones para hacer códigos más amenos. </li>\n",
    "</ol>\n"
   ]
  },
  {
   "cell_type": "code",
   "execution_count": null,
   "metadata": {},
   "outputs": [],
   "source": []
  }
 ],
 "metadata": {
  "kernelspec": {
   "display_name": "Python 3",
   "language": "python",
   "name": "python3"
  },
  "language_info": {
   "codemirror_mode": {
    "name": "ipython",
    "version": 3
   },
   "file_extension": ".py",
   "mimetype": "text/x-python",
   "name": "python",
   "nbconvert_exporter": "python",
   "pygments_lexer": "ipython3",
   "version": "3.7.6"
  }
 },
 "nbformat": 4,
 "nbformat_minor": 4
}
